{
 "cells": [
  {
   "cell_type": "code",
   "execution_count": 1,
   "id": "33d774d3",
   "metadata": {},
   "outputs": [],
   "source": [
    "import pandas as pd\n",
    "import numpy as np"
   ]
  },
  {
   "cell_type": "code",
   "execution_count": 5,
   "id": "f2aafe84",
   "metadata": {},
   "outputs": [
    {
     "name": "stdout",
     "output_type": "stream",
     "text": [
      "   sofifa_id                                         player_url  \\\n",
      "0     158023  https://sofifa.com/player/158023/lionel-messi/...   \n",
      "1      20801  https://sofifa.com/player/20801/c-ronaldo-dos-...   \n",
      "2     190871  https://sofifa.com/player/190871/neymar-da-sil...   \n",
      "3     200389  https://sofifa.com/player/200389/jan-oblak/20/...   \n",
      "4     183277  https://sofifa.com/player/183277/eden-hazard/2...   \n",
      "\n",
      "          short_name                            long_name  age         dob  \\\n",
      "0           L. Messi       Lionel Andrés Messi Cuccittini   32  1987-06-24   \n",
      "1  Cristiano Ronaldo  Cristiano Ronaldo dos Santos Aveiro   34  1985-02-05   \n",
      "2          Neymar Jr        Neymar da Silva Santos Junior   27  1992-02-05   \n",
      "3           J. Oblak                            Jan Oblak   26  1993-01-07   \n",
      "4          E. Hazard                          Eden Hazard   28  1991-01-07   \n",
      "\n",
      "   height_cm  weight_kg nationality                 club  ...   lwb   ldm  \\\n",
      "0        170         72   Argentina         FC Barcelona  ...  68+2  66+2   \n",
      "1        187         83    Portugal             Juventus  ...  65+3  61+3   \n",
      "2        175         68      Brazil  Paris Saint-Germain  ...  66+3  61+3   \n",
      "3        188         87    Slovenia      Atlético Madrid  ...   NaN   NaN   \n",
      "4        175         74     Belgium          Real Madrid  ...  66+3  63+3   \n",
      "\n",
      "    cdm   rdm   rwb    lb   lcb    cb   rcb    rb  \n",
      "0  66+2  66+2  68+2  63+2  52+2  52+2  52+2  63+2  \n",
      "1  61+3  61+3  65+3  61+3  53+3  53+3  53+3  61+3  \n",
      "2  61+3  61+3  66+3  61+3  46+3  46+3  46+3  61+3  \n",
      "3   NaN   NaN   NaN   NaN   NaN   NaN   NaN   NaN  \n",
      "4  63+3  63+3  66+3  61+3  49+3  49+3  49+3  61+3  \n",
      "\n",
      "[5 rows x 104 columns]\n"
     ]
    }
   ],
   "source": [
    "# 1. Load the csv file and show top 5 records from it.\n",
    "df = pd.read_csv('players_20.csv')\n",
    "print(df.head(5))"
   ]
  },
  {
   "cell_type": "code",
   "execution_count": 7,
   "id": "95ddc6aa",
   "metadata": {},
   "outputs": [
    {
     "name": "stdout",
     "output_type": "stream",
     "text": [
      "['sofifa_id' 'player_url' 'short_name' 'long_name' 'age' 'dob' 'height_cm'\n",
      " 'weight_kg' 'nationality' 'club' 'overall' 'potential' 'value_eur'\n",
      " 'wage_eur' 'player_positions' 'preferred_foot' 'international_reputation'\n",
      " 'weak_foot' 'skill_moves' 'work_rate' 'body_type' 'real_face'\n",
      " 'release_clause_eur' 'player_tags' 'team_position' 'team_jersey_number'\n",
      " 'loaned_from' 'joined' 'contract_valid_until' 'nation_position'\n",
      " 'nation_jersey_number' 'pace' 'shooting' 'passing' 'dribbling'\n",
      " 'defending' 'physic' 'gk_diving' 'gk_handling' 'gk_kicking' 'gk_reflexes'\n",
      " 'gk_speed' 'gk_positioning' 'player_traits' 'attacking_crossing'\n",
      " 'attacking_finishing' 'attacking_heading_accuracy'\n",
      " 'attacking_short_passing' 'attacking_volleys' 'skill_dribbling'\n",
      " 'skill_curve' 'skill_fk_accuracy' 'skill_long_passing'\n",
      " 'skill_ball_control' 'movement_acceleration' 'movement_sprint_speed'\n",
      " 'movement_agility' 'movement_reactions' 'movement_balance'\n",
      " 'power_shot_power' 'power_jumping' 'power_stamina' 'power_strength'\n",
      " 'power_long_shots' 'mentality_aggression' 'mentality_interceptions'\n",
      " 'mentality_positioning' 'mentality_vision' 'mentality_penalties'\n",
      " 'mentality_composure' 'defending_marking' 'defending_standing_tackle'\n",
      " 'defending_sliding_tackle' 'goalkeeping_diving' 'goalkeeping_handling'\n",
      " 'goalkeeping_kicking' 'goalkeeping_positioning' 'goalkeeping_reflexes'\n",
      " 'ls' 'st' 'rs' 'lw' 'lf' 'cf' 'rf' 'rw' 'lam' 'cam' 'ram' 'lm' 'lcm' 'cm'\n",
      " 'rcm' 'rm' 'lwb' 'ldm' 'cdm' 'rdm' 'rwb' 'lb' 'lcb' 'cb' 'rcb' 'rb']\n"
     ]
    }
   ],
   "source": [
    "# 2. How you would be able to see each column's name.\n",
    "print(df.columns.values)"
   ]
  },
  {
   "cell_type": "code",
   "execution_count": 10,
   "id": "14968e23",
   "metadata": {},
   "outputs": [
    {
     "name": "stdout",
     "output_type": "stream",
     "text": [
      "(18278, 104)\n"
     ]
    }
   ],
   "source": [
    "# 3. Need to show number of rows and columns of this dataset\n",
    "print(df.shape)"
   ]
  },
  {
   "cell_type": "code",
   "execution_count": 22,
   "id": "dad0de3b",
   "metadata": {},
   "outputs": [
    {
     "name": "stdout",
     "output_type": "stream",
     "text": [
      "Number of Players: 18278\n",
      "Player Countries:\n",
      "['Argentina' 'Portugal' 'Brazil' 'Slovenia' 'Belgium' 'Germany'\n",
      " 'Netherlands' 'Croatia' 'Egypt' 'France' 'Senegal' 'England' 'Spain'\n",
      " 'Italy' 'Uruguay' 'Poland' 'Denmark' 'Gabon' 'Korea Republic'\n",
      " 'Costa Rica' 'Slovakia' 'Bosnia Herzegovina' 'Serbia' 'Scotland'\n",
      " 'Hungary' 'Switzerland' 'Greece' 'Austria' 'Morocco' 'Sweden' 'Wales'\n",
      " 'Colombia' 'Czech Republic' 'Chile' 'Algeria' 'Ivory Coast' 'Togo'\n",
      " 'Norway' 'Mexico' 'Iceland' 'Finland' 'Jamaica' 'Albania' 'Guinea'\n",
      " 'Cameroon' 'Ghana' 'Montenegro' 'Ukraine' 'Russia' 'DR Congo'\n",
      " 'Central African Rep.' 'Venezuela' 'Nigeria' 'Armenia' 'Israel' 'Ecuador'\n",
      " 'Paraguay' 'Australia' 'Turkey' 'Romania' 'Japan' 'Mali' 'United States'\n",
      " 'Kosovo' 'Dominican Republic' 'Tanzania' 'China PR' 'Northern Ireland'\n",
      " 'Republic of Ireland' 'Tunisia' 'Cape Verde' 'FYR Macedonia'\n",
      " 'Burkina Faso' 'Kenya' 'Angola' 'South Africa' 'Peru' 'Syria' 'Gambia'\n",
      " 'New Zealand' 'Equatorial Guinea' 'Zimbabwe' 'Georgia' 'Canada' 'Estonia'\n",
      " 'Benin' 'Bulgaria' 'Mozambique' 'Honduras' 'Guinea Bissau' 'Iran'\n",
      " 'Philippines' 'Cyprus' 'Madagascar' 'Uzbekistan' 'Moldova' 'Cuba'\n",
      " 'Sierra Leone' 'Curacao' 'Zambia' 'Congo' 'Bolivia' 'Comoros' 'Iraq'\n",
      " 'Chad' 'Lithuania' 'Saudi Arabia' 'Panama' 'Libya' 'Bahrain'\n",
      " 'St Kitts Nevis' 'New Caledonia' 'Luxembourg' 'Trinidad & Tobago'\n",
      " 'Thailand' 'United Arab Emirates' 'Eritrea' 'Korea DPR' 'El Salvador'\n",
      " 'Azerbaijan' 'Latvia' 'Montserrat' 'Puerto Rico' 'Bermuda'\n",
      " 'São Tomé & Príncipe' 'Antigua & Barbuda' 'Burundi' 'Kazakhstan'\n",
      " 'Liberia' 'Guyana' 'Haiti' 'Jordan' 'Faroe Islands' 'Mauritania'\n",
      " 'Namibia' 'Rwanda' 'Uganda' 'Hong Kong' 'Chinese Taipei' 'Belize'\n",
      " 'Palestine' 'Mauritius' 'Guam' 'Suriname' 'Lebanon' 'Guatemala' 'Sudan'\n",
      " 'Liechtenstein' 'Grenada' 'St Lucia' 'Afghanistan' 'Ethiopia' 'Barbados'\n",
      " 'India' 'Malta' 'Niger' 'Vietnam' 'Malawi' 'Gibraltar' 'Macau'\n",
      " 'South Sudan' 'Indonesia']\n"
     ]
    }
   ],
   "source": [
    "# 4. Show number of players and their countries.\n",
    "print('Number of Players: ' + str(len(df['short_name'])))\n",
    "print(\"Player Countries:\")\n",
    "print(df.nationality.unique())"
   ]
  },
  {
   "cell_type": "code",
   "execution_count": null,
   "id": "bf6b4d4a",
   "metadata": {},
   "outputs": [],
   "source": [
    "# 5. If you find many records in point 4 then show only top 10 countries and their number of players.\n"
   ]
  }
 ],
 "metadata": {
  "kernelspec": {
   "display_name": "Python 3",
   "language": "python",
   "name": "python3"
  },
  "language_info": {
   "codemirror_mode": {
    "name": "ipython",
    "version": 3
   },
   "file_extension": ".py",
   "mimetype": "text/x-python",
   "name": "python",
   "nbconvert_exporter": "python",
   "pygments_lexer": "ipython3",
   "version": "3.8.8"
  }
 },
 "nbformat": 4,
 "nbformat_minor": 5
}
